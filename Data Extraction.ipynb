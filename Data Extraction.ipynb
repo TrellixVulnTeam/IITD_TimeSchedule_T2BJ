{
 "cells": [
  {
   "cell_type": "code",
   "execution_count": 11,
   "metadata": {},
   "outputs": [],
   "source": [
    "import requests\n",
    "import lxml.html as lh\n",
    "import os"
   ]
  },
  {
   "cell_type": "code",
   "execution_count": 12,
   "metadata": {},
   "outputs": [],
   "source": [
    "course_list = os.listdir(os.getcwd()+'\\\\project\\\\course_links');\n",
    "course_list = [c[:-4] for c in course_list]"
   ]
  },
  {
   "cell_type": "code",
   "execution_count": 13,
   "metadata": {},
   "outputs": [],
   "source": [
    "prof_course = []\n",
    "prof_list = []\n",
    "student_course = []\n",
    "student_list = set()"
   ]
  },
  {
   "cell_type": "markdown",
   "metadata": {},
   "source": [
    "def prof_in_list (clist, shortname):\n",
    "    for c in clist:\n",
    "        if (c[2]==shortname):\n",
    "            return True\n",
    "    return False"
   ]
  },
  {
   "cell_type": "code",
   "execution_count": 14,
   "metadata": {},
   "outputs": [],
   "source": [
    "i = 0\n",
    "for course in course_list:\n",
    "    i+=1\n",
    "    page = open('project/course_links/'+course+'.htm','r')\n",
    "    x = page.read()\n",
    "    doc = lh.fromstring(x)\n",
    "    tr_elements = doc.xpath('//tr')\n",
    "    prof = []\n",
    "    for t in tr_elements[1]:\n",
    "        name=t.text_content()\n",
    "        prof.append(name)\n",
    "    #finding profID\n",
    "    j = i\n",
    "    prof_p = 0\n",
    "    for c in prof_list:\n",
    "        if (c[2]==prof[0]):\n",
    "            prof_p = 1\n",
    "            j = c[0]\n",
    "            break\n",
    "    prof_course.append((j,i))\n",
    "    if (prof_p==0):\n",
    "        prof_list.append((j,prof[1],prof[0]))\n",
    "    for p in range(2,len(tr_elements)):\n",
    "        T=tr_elements[p]\n",
    "        if len(T)!=2:\n",
    "            break\n",
    "        q = []\n",
    "        for t in T.iterchildren():\n",
    "            data=t.text_content()\n",
    "            q.append(data)\n",
    "        q = tuple(q)\n",
    "        student_list.add(q)\n",
    "        student_course.append((i,q[0]))\n",
    "    page.close()"
   ]
  },
  {
   "cell_type": "markdown",
   "metadata": {},
   "source": [
    "page = open('project/MTL106.htm','r')\n",
    "x = page.read()"
   ]
  },
  {
   "cell_type": "markdown",
   "metadata": {},
   "source": [
    "#Store the contents of the website under doc\n",
    "doc = lh.fromstring(x)\n",
    "#Parse data that are stored between <tr>..</tr> of HTML\n",
    "tr_elements = doc.xpath('//tr')"
   ]
  },
  {
   "cell_type": "markdown",
   "metadata": {},
   "source": [
    "prof = []\n",
    "for t in tr_elements[1]:\n",
    "    name=t.text_content()\n",
    "    prof.append(name)\n",
    "prof = tuple(prof)"
   ]
  },
  {
   "cell_type": "markdown",
   "metadata": {},
   "source": [
    "students = [];\n",
    "for j in range(2,len(tr_elements)):\n",
    "    T=tr_elements[j]\n",
    "    if len(T)!=2:\n",
    "        break\n",
    "    q = []\n",
    "    for t in T.iterchildren():\n",
    "        data=t.text_content()\n",
    "        q.append(data)\n",
    "    q = tuple(q)\n",
    "    students.append(q)"
   ]
  },
  {
   "cell_type": "code",
   "execution_count": 15,
   "metadata": {},
   "outputs": [],
   "source": [
    "import csv\n",
    "with open(\"ProfessorCourses.csv\",\"w+\") as my_csv:\n",
    "    csvWriter = csv.writer(my_csv,delimiter=',')\n",
    "    csvWriter.writerows(prof_course)\n",
    "with open(\"ProfessorList.csv\",\"w+\") as my_csv:\n",
    "    csvWriter = csv.writer(my_csv,delimiter=',')\n",
    "    csvWriter.writerows(prof_list)\n",
    "with open(\"StudentCourses.csv\",\"w+\") as my_csv:\n",
    "    csvWriter = csv.writer(my_csv,delimiter=',')\n",
    "    csvWriter.writerows(student_course)\n",
    "with open(\"StudentList.csv\",\"w+\") as my_csv:\n",
    "    csvWriter = csv.writer(my_csv,delimiter=',')\n",
    "    csvWriter.writerows(student_list)"
   ]
  },
  {
   "cell_type": "code",
   "execution_count": 3,
   "metadata": {},
   "outputs": [
    {
     "ename": "ModuleNotFoundError",
     "evalue": "No module named 'PyPDF2'",
     "output_type": "error",
     "traceback": [
      "\u001b[1;31m---------------------------------------------------------------------------\u001b[0m",
      "\u001b[1;31mModuleNotFoundError\u001b[0m                       Traceback (most recent call last)",
      "\u001b[1;32m<ipython-input-3-90c041683b55>\u001b[0m in \u001b[0;36m<module>\u001b[1;34m\u001b[0m\n\u001b[1;32m----> 1\u001b[1;33m \u001b[1;32mimport\u001b[0m \u001b[0mPyPDF2\u001b[0m\u001b[1;33m\u001b[0m\u001b[1;33m\u001b[0m\u001b[0m\n\u001b[0m\u001b[0;32m      2\u001b[0m \u001b[0mpdf1\u001b[0m \u001b[1;33m=\u001b[0m \u001b[0mopen\u001b[0m\u001b[1;33m(\u001b[0m\u001b[1;34m'CourseDescription.pdf'\u001b[0m\u001b[1;33m,\u001b[0m\u001b[1;34m'rb'\u001b[0m\u001b[1;33m)\u001b[0m\u001b[1;33m\u001b[0m\u001b[1;33m\u001b[0m\u001b[0m\n\u001b[0;32m      3\u001b[0m \u001b[0mpdfReader\u001b[0m \u001b[1;33m=\u001b[0m \u001b[0mPyPDF2\u001b[0m\u001b[1;33m.\u001b[0m\u001b[0mPdfFileReader\u001b[0m\u001b[1;33m(\u001b[0m\u001b[0mpdfFileObj\u001b[0m\u001b[1;33m)\u001b[0m\u001b[1;33m\u001b[0m\u001b[1;33m\u001b[0m\u001b[0m\n",
      "\u001b[1;31mModuleNotFoundError\u001b[0m: No module named 'PyPDF2'"
     ]
    }
   ],
   "source": [
    "import PyPDF2\n",
    "pdf1 = open('CourseDescription.pdf','rb')\n",
    "pdfReader = PyPDF2.PdfFileReader(pdfFileObj)"
   ]
  },
  {
   "cell_type": "code",
   "execution_count": 4,
   "metadata": {},
   "outputs": [
    {
     "name": "stdout",
     "output_type": "stream",
     "text": [
      "\n",
      "The following command must be run outside of the IPython shell:\n",
      "\n",
      "    $ pip install PyPDF2\n",
      "\n",
      "The Python package manager (pip) can only be used from outside of IPython.\n",
      "Please reissue the `pip` command in a separate terminal or command prompt.\n",
      "\n",
      "See the Python documentation for more information on how to install packages:\n",
      "\n",
      "    https://docs.python.org/3/installing/\n"
     ]
    }
   ],
   "source": [
    "pip install PyPDF2"
   ]
  },
  {
   "cell_type": "code",
   "execution_count": null,
   "metadata": {},
   "outputs": [],
   "source": []
  }
 ],
 "metadata": {
  "kernelspec": {
   "display_name": "Python 3",
   "language": "python",
   "name": "python3"
  },
  "language_info": {
   "codemirror_mode": {
    "name": "ipython",
    "version": 3
   },
   "file_extension": ".py",
   "mimetype": "text/x-python",
   "name": "python",
   "nbconvert_exporter": "python",
   "pygments_lexer": "ipython3",
   "version": "3.7.1"
  }
 },
 "nbformat": 4,
 "nbformat_minor": 2
}
