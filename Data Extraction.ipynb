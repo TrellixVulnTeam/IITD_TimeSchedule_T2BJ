{
 "cells": [
  {
   "cell_type": "code",
   "execution_count": 125,
   "metadata": {},
   "outputs": [],
   "source": [
    "import requests\n",
    "import lxml.html as lh\n",
    "import os\n",
    "import numpy as np"
   ]
  },
  {
   "cell_type": "code",
   "execution_count": 126,
   "metadata": {},
   "outputs": [],
   "source": [
    "course_list = os.listdir(os.getcwd()+'\\\\project\\\\course_links');\n",
    "course_list = [c[:-4] for c in course_list]"
   ]
  },
  {
   "cell_type": "code",
   "execution_count": 127,
   "metadata": {},
   "outputs": [],
   "source": [
    "prof_course = []\n",
    "prof_list = []\n",
    "student_course = []\n",
    "student_list = set()\n",
    "courses_list = []"
   ]
  },
  {
   "cell_type": "code",
   "execution_count": 128,
   "metadata": {},
   "outputs": [],
   "source": [
    "i = 0\n",
    "for course in course_list:\n",
    "    i+=1\n",
    "    courses_list.append((i,course))\n",
    "    page = open('project/course_links/'+course+'.htm','r')\n",
    "    x = page.read()\n",
    "    doc = lh.fromstring(x)\n",
    "    tr_elements = doc.xpath('//tr')\n",
    "    prof = []\n",
    "    for t in tr_elements[1]:\n",
    "        name=t.text_content()\n",
    "        prof.append(name)\n",
    "    #finding profID\n",
    "    j = i\n",
    "    prof_p = 0\n",
    "    for c in prof_list:\n",
    "        if (c[2]==prof[0]):\n",
    "            prof_p = 1\n",
    "            j = c[0]\n",
    "            break\n",
    "    prof_course.append((j,i))\n",
    "    if (prof_p==0):\n",
    "        prof_list.append((j,prof[1],prof[0]))\n",
    "    for p in range(2,len(tr_elements)):\n",
    "        T=tr_elements[p]\n",
    "        if len(T)!=2:\n",
    "            break\n",
    "        q = []\n",
    "        for t in T.iterchildren():\n",
    "            data=t.text_content()\n",
    "            q.append(data)\n",
    "        q = tuple(q)\n",
    "        student_list.add(q)\n",
    "        student_course.append((i,q[0]))\n",
    "    page.close()"
   ]
  },
  {
   "cell_type": "code",
   "execution_count": 129,
   "metadata": {},
   "outputs": [],
   "source": [
    "i+=1\n",
    "courses_list.append((i,'MTQ301'))\n",
    "i+=1\n",
    "courses_list.append((i,'MTQ302'))\n",
    "i+=1\n",
    "courses_list.append((i,'MTQ303'))"
   ]
  },
  {
   "cell_type": "markdown",
   "metadata": {},
   "source": [
    "#Store the contents of the website under doc\n",
    "doc = lh.fromstring(x)\n",
    "#Parse data that are stored between <tr>..</tr> of HTML\n",
    "tr_elements = doc.xpath('//tr')"
   ]
  },
  {
   "cell_type": "code",
   "execution_count": 130,
   "metadata": {},
   "outputs": [],
   "source": [
    "import csv\n",
    "with open(\"ProfessorCourses.csv\",\"w+\",newline='') as my_csv:\n",
    "    csvWriter = csv.writer(my_csv,delimiter=',')\n",
    "    csvWriter.writerows(prof_course)\n",
    "with open(\"ProfessorList.csv\",\"w+\",newline='') as my_csv:\n",
    "    csvWriter = csv.writer(my_csv,delimiter=',')\n",
    "    csvWriter.writerows(prof_list)\n",
    "with open(\"StudentCourses.csv\",\"w+\",newline='') as my_csv:\n",
    "    csvWriter = csv.writer(my_csv,delimiter=',')\n",
    "    csvWriter.writerows(student_course)\n",
    "with open(\"StudentList.csv\",\"w+\",newline='') as my_csv:\n",
    "    csvWriter = csv.writer(my_csv,delimiter=',')\n",
    "    csvWriter.writerows(student_list)\n",
    "with open(\"CoursesList.csv\",\"w+\",newline='') as my_csv:\n",
    "    csvWriter = csv.writer(my_csv,delimiter=',')\n",
    "    csvWriter.writerows(courses_list)"
   ]
  },
  {
   "cell_type": "markdown",
   "metadata": {},
   "source": [
    "import PyPDF2\n",
    "pdf1 = open('project/CourseDescription.pdf','rb')\n",
    "pdfReader = PyPDF2.PdfFileReader(pdf1)\n",
    "num_pages = pdfReader.numPages\n",
    "count = 0\n",
    "text = \"\"\n",
    "while count < 5:\n",
    "    pageObj = pdfReader.getPage(count)\n",
    "    text += pageObj.extractText()\n",
    "    count+=1\n",
    "pdf1.close() "
   ]
  },
  {
   "cell_type": "markdown",
   "metadata": {},
   "source": [
    "os.listdir(os.getcwd()+'\\\\project')"
   ]
  },
  {
   "cell_type": "code",
   "execution_count": 119,
   "metadata": {},
   "outputs": [
    {
     "name": "stdout",
     "output_type": "stream",
     "text": [
      "Total no. of rows: 926\n"
     ]
    }
   ],
   "source": [
    "import csv \n",
    "filename = \"Courses_Offered.csv\"\n",
    "fields = [] \n",
    "rows = [] \n",
    "with open(filename, 'r') as csvfile: \n",
    "    csvreader = csv.reader(csvfile)  \n",
    "    for row in csvreader: \n",
    "        rows.append(row) \n",
    "    print(\"Total no. of rows: %d\"%(csvreader.line_num))\n",
    "rows = rows[4:]\n",
    "header = rows[0]"
   ]
  },
  {
   "cell_type": "code",
   "execution_count": 120,
   "metadata": {},
   "outputs": [],
   "source": [
    "entry = []\n",
    "i = 1\n",
    "for c in rows:\n",
    "    x = c[0]\n",
    "    try:\n",
    "        x = int(x)\n",
    "        if (int(c[0])==i):\n",
    "            entry.append(c)\n",
    "            i+=1\n",
    "    except:\n",
    "        pass"
   ]
  },
  {
   "cell_type": "code",
   "execution_count": 121,
   "metadata": {},
   "outputs": [],
   "source": [
    "## Adding LTP values to the end of row\n",
    "for row in entry:\n",
    "    t = row[4].split('-')\n",
    "    t = [float(c) for c in t]\n",
    "    row.insert(5,t[0])\n",
    "    row.insert(6,t[1])\n",
    "    row.insert(7,t[2])\n",
    "    t = t[0]+t[1]+t[2]/2\n",
    "    row[4] = t"
   ]
  },
  {
   "cell_type": "code",
   "execution_count": 122,
   "metadata": {},
   "outputs": [],
   "source": [
    "## Seperating name and Course Code\n",
    "for row in entry:\n",
    "    t = row[1].split('-')\n",
    "    name = \"\"\n",
    "    for i in range(0,len(t)-1):\n",
    "        name+=t[i]+\" \"\n",
    "    course = t[-1]\n",
    "    row[1] = name\n",
    "    row[2] = course"
   ]
  },
  {
   "cell_type": "code",
   "execution_count": 123,
   "metadata": {},
   "outputs": [],
   "source": [
    "import csv\n",
    "with open(\"Courses_Offered_Edit2.csv\",\"w+\",newline='') as my_csv:\n",
    "    csvWriter = csv.writer(my_csv,delimiter='$')\n",
    "    csvWriter.writerows(entry)"
   ]
  },
  {
   "cell_type": "code",
   "execution_count": 124,
   "metadata": {},
   "outputs": [],
   "source": [
    "# selection = np.array([True, True, False, True, True, False, True, True, False, False, False, False, False, True, True])\n",
    "# x = x.transpose\n",
    "# x[:,selection]"
   ]
  },
  {
   "cell_type": "code",
   "execution_count": 82,
   "metadata": {},
   "outputs": [
    {
     "data": {
      "text/plain": [
       "17"
      ]
     },
     "execution_count": 82,
     "metadata": {},
     "output_type": "execute_result"
    }
   ],
   "source": [
    "len(entry[0])"
   ]
  },
  {
   "cell_type": "code",
   "execution_count": 90,
   "metadata": {},
   "outputs": [
    {
     "name": "stdout",
     "output_type": "stream",
     "text": [
      "['1', 'MINI PROJECT (AM)                                  ', 'AMD310', 'P', 3.0, 0.0, 0.0, 6.0, '', 'VIKRANT TIWARI   ', 'tiwariv@am.iitd.ac.in', '', '', '', '30', '7']\n"
     ]
    }
   ],
   "source": [
    "print(entry[0])"
   ]
  },
  {
   "cell_type": "code",
   "execution_count": null,
   "metadata": {},
   "outputs": [],
   "source": []
  },
  {
   "cell_type": "code",
   "execution_count": null,
   "metadata": {},
   "outputs": [],
   "source": []
  }
 ],
 "metadata": {
  "kernelspec": {
   "display_name": "Python 3",
   "language": "python",
   "name": "python3"
  },
  "language_info": {
   "codemirror_mode": {
    "name": "ipython",
    "version": 3
   },
   "file_extension": ".py",
   "mimetype": "text/x-python",
   "name": "python",
   "nbconvert_exporter": "python",
   "pygments_lexer": "ipython3",
   "version": "3.7.1"
  }
 },
 "nbformat": 4,
 "nbformat_minor": 2
}
