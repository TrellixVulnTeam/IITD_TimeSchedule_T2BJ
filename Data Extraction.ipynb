{
 "cells": [
  {
   "cell_type": "code",
   "execution_count": 16,
   "metadata": {},
   "outputs": [],
   "source": [
    "import requests\n",
    "import lxml.html as lh\n",
    "import os\n",
    "import numpy as np"
   ]
  },
  {
   "cell_type": "code",
   "execution_count": 17,
   "metadata": {},
   "outputs": [],
   "source": [
    "course_list = os.listdir(os.getcwd()+'\\\\project\\\\course_links');\n",
    "course_list = [c[:-4] for c in course_list]"
   ]
  },
  {
   "cell_type": "code",
   "execution_count": 18,
   "metadata": {},
   "outputs": [],
   "source": [
    "prof_course = []\n",
    "prof_list = []\n",
    "student_course = []\n",
    "student_list = set()\n",
    "courses_list = []"
   ]
  },
  {
   "cell_type": "code",
   "execution_count": 19,
   "metadata": {},
   "outputs": [],
   "source": [
    "i = 0\n",
    "for course in course_list:\n",
    "    i+=1\n",
    "    courses_list.append((i,course))\n",
    "    page = open('project/course_links/'+course+'.htm','r')\n",
    "    x = page.read()\n",
    "    doc = lh.fromstring(x)\n",
    "    tr_elements = doc.xpath('//tr')\n",
    "    prof = []\n",
    "    for t in tr_elements[1]:\n",
    "        name=t.text_content()\n",
    "        prof.append(name)\n",
    "    #finding profID\n",
    "    j = i\n",
    "    prof_p = 0\n",
    "    for c in prof_list:\n",
    "        if (c[2]==prof[0]):\n",
    "            prof_p = 1\n",
    "            j = c[0]\n",
    "            break\n",
    "    prof_course.append((j,i))\n",
    "    if (prof_p==0):\n",
    "        prof_list.append((j,prof[1],prof[0]))\n",
    "    for p in range(2,len(tr_elements)):\n",
    "        T=tr_elements[p]\n",
    "        if len(T)!=2:\n",
    "            break\n",
    "        q = []\n",
    "        for t in T.iterchildren():\n",
    "            data=t.text_content()\n",
    "            q.append(data)\n",
    "        q = tuple(q)\n",
    "        student_list.add(q)\n",
    "        student_course.append((i,q[0]))\n",
    "    page.close()"
   ]
  },
  {
   "cell_type": "markdown",
   "metadata": {},
   "source": [
    "#Store the contents of the website under doc\n",
    "doc = lh.fromstring(x)\n",
    "#Parse data that are stored between <tr>..</tr> of HTML\n",
    "tr_elements = doc.xpath('//tr')"
   ]
  },
  {
   "cell_type": "code",
   "execution_count": 20,
   "metadata": {},
   "outputs": [],
   "source": [
    "import csv\n",
    "with open(\"ProfessorCourses.csv\",\"w+\",newline='') as my_csv:\n",
    "    csvWriter = csv.writer(my_csv,delimiter=',')\n",
    "    csvWriter.writerows(prof_course)\n",
    "with open(\"ProfessorList.csv\",\"w+\",newline='') as my_csv:\n",
    "    csvWriter = csv.writer(my_csv,delimiter=',')\n",
    "    csvWriter.writerows(prof_list)\n",
    "with open(\"StudentCourses.csv\",\"w+\",newline='') as my_csv:\n",
    "    csvWriter = csv.writer(my_csv,delimiter=',')\n",
    "    csvWriter.writerows(student_course)\n",
    "with open(\"StudentList.csv\",\"w+\",newline='') as my_csv:\n",
    "    csvWriter = csv.writer(my_csv,delimiter=',')\n",
    "    csvWriter.writerows(student_list)\n",
    "with open(\"CoursesList.csv\",\"w+\",newline='') as my_csv:\n",
    "    csvWriter = csv.writer(my_csv,delimiter=',')\n",
    "    csvWriter.writerows(courses_list)"
   ]
  },
  {
   "cell_type": "code",
   "execution_count": 1,
   "metadata": {},
   "outputs": [
    {
     "ename": "FileNotFoundError",
     "evalue": "[Errno 2] No such file or directory: 'Courses_Offered.pdf'",
     "output_type": "error",
     "traceback": [
      "\u001b[1;31m---------------------------------------------------------------------------\u001b[0m",
      "\u001b[1;31mFileNotFoundError\u001b[0m                         Traceback (most recent call last)",
      "\u001b[1;32m<ipython-input-1-deb66527e96c>\u001b[0m in \u001b[0;36m<module>\u001b[1;34m\u001b[0m\n\u001b[0;32m      1\u001b[0m \u001b[1;32mimport\u001b[0m \u001b[0mPyPDF2\u001b[0m\u001b[1;33m\u001b[0m\u001b[1;33m\u001b[0m\u001b[0m\n\u001b[1;32m----> 2\u001b[1;33m \u001b[0mpdf1\u001b[0m \u001b[1;33m=\u001b[0m \u001b[0mopen\u001b[0m\u001b[1;33m(\u001b[0m\u001b[1;34m'Courses_Offered.pdf'\u001b[0m\u001b[1;33m,\u001b[0m\u001b[1;34m'rb'\u001b[0m\u001b[1;33m)\u001b[0m\u001b[1;33m\u001b[0m\u001b[1;33m\u001b[0m\u001b[0m\n\u001b[0m\u001b[0;32m      3\u001b[0m \u001b[0mpdfReader\u001b[0m \u001b[1;33m=\u001b[0m \u001b[0mPyPDF2\u001b[0m\u001b[1;33m.\u001b[0m\u001b[0mPdfFileReader\u001b[0m\u001b[1;33m(\u001b[0m\u001b[0mpdf1\u001b[0m\u001b[1;33m)\u001b[0m\u001b[1;33m\u001b[0m\u001b[1;33m\u001b[0m\u001b[0m\n\u001b[0;32m      4\u001b[0m \u001b[0mnum_pages\u001b[0m \u001b[1;33m=\u001b[0m \u001b[0mpdfReader\u001b[0m\u001b[1;33m.\u001b[0m\u001b[0mnumPages\u001b[0m\u001b[1;33m\u001b[0m\u001b[1;33m\u001b[0m\u001b[0m\n\u001b[0;32m      5\u001b[0m \u001b[0mcount\u001b[0m \u001b[1;33m=\u001b[0m \u001b[1;36m0\u001b[0m\u001b[1;33m\u001b[0m\u001b[1;33m\u001b[0m\u001b[0m\n",
      "\u001b[1;31mFileNotFoundError\u001b[0m: [Errno 2] No such file or directory: 'Courses_Offered.pdf'"
     ]
    }
   ],
   "source": [
    "import PyPDF2\n",
    "pdf1 = open('project/CourseDescription.pdf','rb')\n",
    "pdfReader = PyPDF2.PdfFileReader(pdf1)\n",
    "num_pages = pdfReader.numPages\n",
    "count = 0\n",
    "text = \"\"\n",
    "while count < 5:\n",
    "    pageObj = pdfReader.getPage(count)\n",
    "    text += pageObj.extractText()\n",
    "    count+=1\n",
    "pdf1.close() "
   ]
  },
  {
   "cell_type": "code",
   "execution_count": null,
   "metadata": {},
   "outputs": [],
   "source": [
    "os.listdir(os.getcwd()+'\\\\project')"
   ]
  },
  {
   "cell_type": "code",
   "execution_count": 83,
   "metadata": {},
   "outputs": [
    {
     "name": "stdout",
     "output_type": "stream",
     "text": [
      "Total no. of rows: 926\n"
     ]
    }
   ],
   "source": [
    "import csv \n",
    "filename = \"Courses_Offered.csv\"\n",
    "fields = [] \n",
    "rows = [] \n",
    "with open(filename, 'r') as csvfile: \n",
    "    csvreader = csv.reader(csvfile)  \n",
    "    for row in csvreader: \n",
    "        rows.append(row) \n",
    "    print(\"Total no. of rows: %d\"%(csvreader.line_num))\n",
    "rows = rows[4:]\n",
    "header = rows[0]"
   ]
  },
  {
   "cell_type": "code",
   "execution_count": 85,
   "metadata": {},
   "outputs": [],
   "source": [
    "entry = []\n",
    "i = 1\n",
    "for c in rows:\n",
    "    x = c[0]\n",
    "    try:\n",
    "        x = int(x)\n",
    "        if (int(c[0])==i):\n",
    "            entry.append(c)\n",
    "            i+=1\n",
    "    except:\n",
    "        pass"
   ]
  },
  {
   "cell_type": "code",
   "execution_count": 86,
   "metadata": {},
   "outputs": [],
   "source": [
    "import csv\n",
    "with open(\"Courses_Offered_Edit1.csv\",\"w+\",newline='') as my_csv:\n",
    "    csvWriter = csv.writer(my_csv,delimiter='$')\n",
    "    csvWriter.writerows(entry)"
   ]
  },
  {
   "cell_type": "code",
   "execution_count": 71,
   "metadata": {},
   "outputs": [],
   "source": [
    "selection = np.array([True, True, False, True, True, False, True, True, False, False, False, False, False, True, True])\n",
    "# x = x.transpose\n",
    "# x[:,selection]"
   ]
  },
  {
   "cell_type": "code",
   "execution_count": null,
   "metadata": {},
   "outputs": [],
   "source": []
  }
 ],
 "metadata": {
  "kernelspec": {
   "display_name": "Python 3",
   "language": "python",
   "name": "python3"
  },
  "language_info": {
   "codemirror_mode": {
    "name": "ipython",
    "version": 3
   },
   "file_extension": ".py",
   "mimetype": "text/x-python",
   "name": "python",
   "nbconvert_exporter": "python",
   "pygments_lexer": "ipython3",
   "version": "3.7.1"
  }
 },
 "nbformat": 4,
 "nbformat_minor": 2
}
