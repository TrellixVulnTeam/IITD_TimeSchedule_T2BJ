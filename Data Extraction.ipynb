{
 "cells": [
  {
   "cell_type": "code",
   "execution_count": 43,
   "metadata": {},
   "outputs": [],
   "source": [
    "import requests\n",
    "import lxml.html as lh\n",
    "import os\n",
    "import numpy as np\n",
    "import csv"
   ]
  },
  {
   "cell_type": "code",
   "execution_count": 44,
   "metadata": {},
   "outputs": [],
   "source": [
    "course_list = os.listdir(os.getcwd()+'\\\\project\\\\course_links');\n",
    "course_list = [c[:-4] for c in course_list]"
   ]
  },
  {
   "cell_type": "code",
   "execution_count": 45,
   "metadata": {},
   "outputs": [],
   "source": [
    "prof_course = []\n",
    "prof_list = []\n",
    "student_course = []\n",
    "student_list = set()\n",
    "courses_list = []"
   ]
  },
  {
   "cell_type": "code",
   "execution_count": 46,
   "metadata": {},
   "outputs": [],
   "source": [
    "i = 0\n",
    "for course in course_list:\n",
    "    i+=1\n",
    "    courses_list.append((i,course))\n",
    "    page = open('project/course_links/'+course+'.htm','r')\n",
    "    x = page.read()\n",
    "    doc = lh.fromstring(x)\n",
    "    tr_elements = doc.xpath('//tr')\n",
    "    prof = []\n",
    "    for t in tr_elements[1]:\n",
    "        name=t.text_content()\n",
    "        prof.append(name)\n",
    "    #finding profID\n",
    "    j = i\n",
    "    prof_p = 0\n",
    "    for c in prof_list:\n",
    "        if (c[2]==prof[0]):\n",
    "            prof_p = 1\n",
    "            j = c[0]\n",
    "            break\n",
    "    prof_course.append((j,i))\n",
    "    if (prof_p==0):\n",
    "        prof_list.append((j,prof[1],prof[0]))\n",
    "    for p in range(2,len(tr_elements)):\n",
    "        T=tr_elements[p]\n",
    "        if len(T)!=2:\n",
    "            break\n",
    "        q = []\n",
    "        for t in T.iterchildren():\n",
    "            data=t.text_content()\n",
    "            q.append(data)\n",
    "        q = tuple(q)\n",
    "        student_list.add(q)\n",
    "        student_course.append((i,q[0]))\n",
    "    page.close()"
   ]
  },
  {
   "cell_type": "markdown",
   "metadata": {},
   "source": [
    "i+=1\n",
    "courses_list.append((i,'MTQ301'))\n",
    "i+=1\n",
    "courses_list.append((i,'MTQ302'))\n",
    "i+=1\n",
    "courses_list.append((i,'MTQ303'))"
   ]
  },
  {
   "cell_type": "code",
   "execution_count": 47,
   "metadata": {},
   "outputs": [],
   "source": [
    "import csv\n",
    "with open(\"ProfessorCourses.csv\",\"w+\",newline='') as my_csv:\n",
    "    csvWriter = csv.writer(my_csv,delimiter=',')\n",
    "    csvWriter.writerows(prof_course)\n",
    "with open(\"ProfessorList.csv\",\"w+\",newline='') as my_csv:\n",
    "    csvWriter = csv.writer(my_csv,delimiter=',')\n",
    "    csvWriter.writerows(prof_list)\n",
    "with open(\"StudentCourses.csv\",\"w+\",newline='') as my_csv:\n",
    "    csvWriter = csv.writer(my_csv,delimiter=',')\n",
    "    csvWriter.writerows(student_course)\n",
    "with open(\"StudentList.csv\",\"w+\",newline='') as my_csv:\n",
    "    csvWriter = csv.writer(my_csv,delimiter=',')\n",
    "    csvWriter.writerows(student_list)\n",
    "with open(\"CoursesList.csv\",\"w+\",newline='') as my_csv:\n",
    "    csvWriter = csv.writer(my_csv,delimiter=',')\n",
    "    csvWriter.writerows(courses_list)"
   ]
  },
  {
   "cell_type": "code",
   "execution_count": 55,
   "metadata": {},
   "outputs": [
    {
     "name": "stdout",
     "output_type": "stream",
     "text": [
      "Total no. of rows: 7969\n"
     ]
    }
   ],
   "source": [
    "filename = \"StudentList.csv\"\n",
    "studentinfo = []\n",
    "branch = set()\n",
    "with open(filename, 'r') as csvfile: \n",
    "    csvreader = csv.reader(csvfile)\n",
    "    i=0\n",
    "    for row in csvreader: \n",
    "        i+=1\n",
    "        t = row[0];\n",
    "        department = t[0:3]\n",
    "        year_entry = t[3:5]\n",
    "        roll_no = t[5:9]\n",
    "        row.insert(1,roll_no)\n",
    "        row.insert(1,year_entry)\n",
    "        row.insert(1,department)\n",
    "        row.insert(1,t[0:5])\n",
    "        branch.add(department)\n",
    "        row.insert(0,i)\n",
    "        studentinfo.append(row)\n",
    "    print(\"Total no. of rows: %d\"%(csvreader.line_num))"
   ]
  },
  {
   "cell_type": "code",
   "execution_count": 56,
   "metadata": {},
   "outputs": [],
   "source": [
    "with open(\"StudentDetails.csv\",\"w+\",newline='') as my_csv:\n",
    "    csvWriter = csv.writer(my_csv,delimiter=',')\n",
    "    csvWriter.writerows(studentinfo)"
   ]
  },
  {
   "cell_type": "code",
   "execution_count": null,
   "metadata": {},
   "outputs": [],
   "source": []
  },
  {
   "cell_type": "markdown",
   "metadata": {},
   "source": [
    "os.listdir(os.getcwd()+'\\\\project')"
   ]
  },
  {
   "cell_type": "code",
   "execution_count": 64,
   "metadata": {},
   "outputs": [
    {
     "name": "stdout",
     "output_type": "stream",
     "text": [
      "Total no. of rows: 926\n"
     ]
    }
   ],
   "source": [
    "import csv \n",
    "filename = \"Courses_Offered.csv\"\n",
    "fields = [] \n",
    "rows = [] \n",
    "with open(filename, 'r') as csvfile: \n",
    "    csvreader = csv.reader(csvfile)  \n",
    "    for row in csvreader: \n",
    "        rows.append(row) \n",
    "    print(\"Total no. of rows: %d\"%(csvreader.line_num))\n",
    "rows = rows[4:]\n",
    "header = rows[0]"
   ]
  },
  {
   "cell_type": "code",
   "execution_count": 65,
   "metadata": {},
   "outputs": [],
   "source": [
    "entry = []\n",
    "i = 1\n",
    "for c in rows:\n",
    "    x = c[0]\n",
    "    try:\n",
    "        x = int(x)\n",
    "        if (int(c[0])==i):\n",
    "            entry.append(c)\n",
    "            i+=1\n",
    "    except:\n",
    "        pass"
   ]
  },
  {
   "cell_type": "code",
   "execution_count": 66,
   "metadata": {},
   "outputs": [],
   "source": [
    "## Adding LTP values to the end of row\n",
    "for row in entry:\n",
    "    t = row[4].split('-')\n",
    "    t = [float(c) for c in t]\n",
    "    row.insert(5,t[0])\n",
    "    row.insert(6,t[1])\n",
    "    row.insert(7,t[2])\n",
    "    t = t[0]+t[1]+t[2]/2\n",
    "    row[4] = t"
   ]
  },
  {
   "cell_type": "code",
   "execution_count": 67,
   "metadata": {},
   "outputs": [],
   "source": [
    "## Seperating name and Course Code\n",
    "for row in entry:\n",
    "    t = row[1].split('-')\n",
    "    name = \"\"\n",
    "    for i in range(0,len(t)-1):\n",
    "        name+=t[i]+\" \"\n",
    "    course = t[-1]\n",
    "    row[1] = name\n",
    "    row[2] = course"
   ]
  },
  {
   "cell_type": "code",
   "execution_count": 68,
   "metadata": {},
   "outputs": [],
   "source": [
    "del entry[611:614]"
   ]
  },
  {
   "cell_type": "code",
   "execution_count": 69,
   "metadata": {},
   "outputs": [],
   "source": [
    "import csv\n",
    "with open(\"Courses_Offered_Edit2.csv\",\"w+\",newline='') as my_csv:\n",
    "    csvWriter = csv.writer(my_csv,delimiter='$')\n",
    "    csvWriter.writerows(entry)"
   ]
  },
  {
   "cell_type": "markdown",
   "metadata": {},
   "source": [
    "##Configuring Student List\n",
    "##Adding Addtional Features"
   ]
  },
  {
   "cell_type": "code",
   "execution_count": 148,
   "metadata": {},
   "outputs": [],
   "source": [
    "group_list = os.listdir(os.getcwd()+'\\\\project\\\\all_links');\n",
    "# group_list = [c[:-4] for c in group_list]\n",
    "Users = []\n",
    "UsersSet = set()"
   ]
  },
  {
   "cell_type": "code",
   "execution_count": 149,
   "metadata": {},
   "outputs": [],
   "source": [
    "i = 0\n",
    "for group in group_list:\n",
    "    i+=1\n",
    "    page = open('project/all_links/'+group,'r')\n",
    "    x = page.read()\n",
    "    doc = lh.fromstring(x)\n",
    "    tr_elements = doc.xpath('//tr')\n",
    "    try:\n",
    "        header = tr_elements[0]\n",
    "        if len(header)!=1:\n",
    "            page.close()\n",
    "            continue\n",
    "        for p in range(1,len(tr_elements)):\n",
    "            T=tr_elements[p]\n",
    "            if len(T)!=2:\n",
    "                break\n",
    "            q = []\n",
    "            for t in T.iterchildren():\n",
    "                data=t.text_content()\n",
    "                q.append(data)\n",
    "            q[0] = q[0].lower()\n",
    "            x = tuple(q)\n",
    "            UsersSet.add(x)\n",
    "            q.append(os.path.splitext(group)[0])\n",
    "            q = tuple(q)\n",
    "            Users.append(q)\n",
    "    except:\n",
    "        pass\n",
    "    page.close()"
   ]
  },
  {
   "cell_type": "code",
   "execution_count": 150,
   "metadata": {},
   "outputs": [],
   "source": [
    "import csv\n",
    "with open(\"Users.csv\",\"w+\",newline='') as my_csv:\n",
    "    csvWriter = csv.writer(my_csv,delimiter='$')\n",
    "    csvWriter.writerows(Users)\n",
    "import csv\n",
    "with open(\"UsersSet.csv\",\"w+\",newline='') as my_csv:\n",
    "    csvWriter = csv.writer(my_csv,delimiter='$')\n",
    "    csvWriter.writerows(UsersSet)"
   ]
  },
  {
   "cell_type": "code",
   "execution_count": null,
   "metadata": {},
   "outputs": [],
   "source": [
    "#Creating Hierarchial Structure"
   ]
  },
  {
   "cell_type": "code",
   "execution_count": 128,
   "metadata": {},
   "outputs": [
    {
     "data": {
      "text/plain": [
       "['ESQ308',\n",
       " 'ESQ309',\n",
       " 'ESQ310',\n",
       " 'esz08',\n",
       " 'esz09',\n",
       " 'esz10',\n",
       " 'esz11',\n",
       " 'esz12',\n",
       " 'esz13',\n",
       " 'esz14',\n",
       " 'esz15',\n",
       " 'esz16',\n",
       " 'esz17',\n",
       " 'esz18',\n",
       " 'events',\n",
       " 'evgroup',\n",
       " 'experimentalists',\n",
       " 'faculty-search',\n",
       " 'faculty',\n",
       " 'facultychemical',\n",
       " 'facultycsc',\n",
       " 'faculty_10',\n",
       " 'faculty_11',\n",
       " 'faculty_12',\n",
       " 'faculty_13',\n",
       " 'faculty_14',\n",
       " 'faculty_15',\n",
       " 'faculty_16',\n",
       " 'faculty_17',\n",
       " 'faculty_18',\n",
       " 'faculty_19',\n",
       " 'faculty_2',\n",
       " 'faculty_20',\n",
       " 'faculty_21',\n",
       " 'faculty_22',\n",
       " 'faculty_23',\n",
       " 'faculty_24',\n",
       " 'faculty_25',\n",
       " 'faculty_26',\n",
       " 'faculty_27',\n",
       " 'faculty_28',\n",
       " 'faculty_3',\n",
       " 'faculty_4',\n",
       " 'faculty_5',\n",
       " 'faculty_6',\n",
       " 'faculty_7',\n",
       " 'faculty_8',\n",
       " 'faculty_9',\n",
       " 'faculty_forum',\n",
       " 'femto',\n",
       " 'fitt_staff',\n",
       " 'fmdl',\n",
       " 'fsc',\n",
       " 'gate',\n",
       " 'gipedi',\n",
       " 'gomes',\n",
       " 'gpaliases.',\n",
       " 'gpaliases_10.',\n",
       " 'gpaliases_11.',\n",
       " 'gpaliases_12.',\n",
       " 'gpaliases_13.',\n",
       " 'gpaliases_14.',\n",
       " 'gpaliases_15.',\n",
       " 'gpaliases_16.',\n",
       " 'gpaliases_17.',\n",
       " 'gpaliases_18.',\n",
       " 'gpaliases_19.',\n",
       " 'gpaliases_2.',\n",
       " 'gpaliases_20.',\n",
       " 'gpaliases_21.',\n",
       " 'gpaliases_22.',\n",
       " 'gpaliases_23.',\n",
       " 'gpaliases_24.',\n",
       " 'gpaliases_25.',\n",
       " 'gpaliases_26.',\n",
       " 'gpaliases_27.',\n",
       " 'gpaliases_28.',\n",
       " 'gpaliases_29.',\n",
       " 'gpaliases_3.',\n",
       " 'gpaliases_30.',\n",
       " 'gpaliases_31.',\n",
       " 'gpaliases_32.',\n",
       " 'gpaliases_33.',\n",
       " 'gpaliases_34.',\n",
       " 'gpaliases_35.',\n",
       " 'gpaliases_36.',\n",
       " 'gpaliases_37.',\n",
       " 'gpaliases_38.',\n",
       " 'gpaliases_39.',\n",
       " 'gpaliases_4.',\n",
       " 'gpaliases_40.',\n",
       " 'gpaliases_41.',\n",
       " 'gpaliases_42.',\n",
       " 'gpaliases_5.',\n",
       " 'gpaliases_6.',\n",
       " 'gpaliases_7.',\n",
       " 'gpaliases_8.',\n",
       " 'gpaliases_9.',\n",
       " 'gpuadmin',\n",
       " 'gradconf']"
      ]
     },
     "execution_count": 128,
     "metadata": {},
     "output_type": "execute_result"
    }
   ],
   "source": [
    "group_list = os.listdir(os.getcwd()+'\\\\project\\\\all_links');\n",
    "group_list = [c[:-4] for c in group_list]\n",
    "group_list[1300:1400]"
   ]
  },
  {
   "cell_type": "code",
   "execution_count": null,
   "metadata": {},
   "outputs": [],
   "source": []
  }
 ],
 "metadata": {
  "kernelspec": {
   "display_name": "Python 3",
   "language": "python",
   "name": "python3"
  },
  "language_info": {
   "codemirror_mode": {
    "name": "ipython",
    "version": 3
   },
   "file_extension": ".py",
   "mimetype": "text/x-python",
   "name": "python",
   "nbconvert_exporter": "python",
   "pygments_lexer": "ipython3",
   "version": "3.7.1"
  }
 },
 "nbformat": 4,
 "nbformat_minor": 2
}
